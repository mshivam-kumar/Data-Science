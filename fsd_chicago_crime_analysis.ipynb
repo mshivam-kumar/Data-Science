{
 "metadata": {
  "language_info": {
   "codemirror_mode": {
    "name": "ipython",
    "version": 3
   },
   "file_extension": ".py",
   "mimetype": "text/x-python",
   "name": "python",
   "nbconvert_exporter": "python",
   "pygments_lexer": "ipython3",
   "version": "3.8.7"
  },
  "orig_nbformat": 2,
  "kernelspec": {
   "name": "python387jvsc74a57bd008b64dc7e9099eac269fb18b5d824c195a782a2ed4ec34aad5d0bbbc3d697e62",
   "display_name": "Python 3.8.7 64-bit"
  },
  "metadata": {
   "interpreter": {
    "hash": "08b64dc7e9099eac269fb18b5d824c195a782a2ed4ec34aad5d0bbbc3d697e62"
   }
  }
 },
 "nbformat": 4,
 "nbformat_minor": 2,
 "cells": [
  {
   "cell_type": "code",
   "execution_count": null,
   "metadata": {},
   "outputs": [],
   "source": [
    "# import pandas\n",
    "# import sqlite3 \n",
    "# chicago_crime_data=pandas.read_csv(\"ChicagoCrimeData.csv\")\n",
    "# chicago_crime_data.head()"
   ]
  },
  {
   "cell_type": "code",
   "execution_count": 2,
   "metadata": {},
   "outputs": [
    {
     "output_type": "execute_result",
     "data": {
      "text/plain": [
       "Index(['ID', 'CASE_NUMBER', 'DATE', 'BLOCK', 'IUCR', 'PRIMARY_TYPE',\n",
       "       'DESCRIPTION', 'LOCATION_DESCRIPTION', 'ARREST', 'DOMESTIC', 'BEAT',\n",
       "       'DISTRICT', 'WARD', 'COMMUNITY_AREA_NUMBER', 'FBICODE', 'X_COORDINATE',\n",
       "       'Y_COORDINATE', 'YEAR', 'LATITUDE', 'LONGITUDE', 'LOCATION'],\n",
       "      dtype='object')"
      ]
     },
     "metadata": {},
     "execution_count": 2
    }
   ],
   "source": [
    "# chicago_crime_data.columns"
   ]
  },
  {
   "cell_type": "code",
   "execution_count": 4,
   "metadata": {},
   "outputs": [
    {
     "output_type": "stream",
     "name": "stdout",
     "text": [
      "connected successfully\n"
     ]
    }
   ],
   "source": [
    "# try:\n",
    "#     conn=sqlite3.connect(\"Chicago_crime_data.db\")   \n",
    "#     c=conn.cursor()\n",
    "#     print(\"connected successfully\")\n",
    "# except:\n",
    "#     print(\"Unable to connect\")"
   ]
  },
  {
   "cell_type": "code",
   "execution_count": 5,
   "metadata": {},
   "outputs": [
    {
     "output_type": "stream",
     "name": "stdout",
     "text": [
      "success\n"
     ]
    }
   ],
   "source": [
    "# conn=sqlite3.connect(\"chicago_test_data.db\")\n",
    "# c=conn.cursor()\n",
    "# # print(\"success\")"
   ]
  },
  {
   "cell_type": "code",
   "execution_count": 9,
   "metadata": {},
   "outputs": [
    {
     "output_type": "execute_result",
     "data": {
      "text/plain": [
       "Index(['ID', 'CASE_NUMBER', 'DATE', 'BLOCK', 'IUCR', 'PRIMARY_TYPE',\n",
       "       'DESCRIPTION', 'LOCATION_DESCRIPTION', 'ARREST', 'DOMESTIC', 'BEAT',\n",
       "       'DISTRICT', 'WARD', 'COMMUNITY_AREA_NUMBER', 'FBICODE', 'X_COORDINATE',\n",
       "       'Y_COORDINATE', 'YEAR', 'LATITUDE', 'LONGITUDE', 'LOCATION'],\n",
       "      dtype='object')"
      ]
     },
     "metadata": {},
     "execution_count": 9
    }
   ],
   "source": [
    "# chicago_crime_data.columns"
   ]
  },
  {
   "cell_type": "code",
   "execution_count": 11,
   "metadata": {},
   "outputs": [],
   "source": [
    "# c.executescript(\"\"\"drop table if exists ChicagoCrimeData1; \n",
    "# CREATE TABLE ChicagoCrimeData1(ID, CASE_NUMBER, DATE, BLOCK,IUCR, PRIMARY_TYPE,DESCRIPTION, LOCATION_DESCRIPTION, ARREST, DOMESTIC,BEAT,\n",
    "#        DISTRICT, WARD, COMMUNITY_AREA_NUMBER, FBICODE, X_COORDINATE,\n",
    "#        Y_COORDINATE, YEAR, LATITUDE, LONGITUDE, LOCATION)\"\"\")\n",
    "# conn.commit()"
   ]
  },
  {
   "cell_type": "code",
   "execution_count": 12,
   "metadata": {},
   "outputs": [],
   "source": [
    "# chicago_crime_data.to_sql(\"ChicagoCrimeData1\",conn,if_exists=\"replace\",index=False)"
   ]
  },
  {
   "cell_type": "code",
   "execution_count": 14,
   "metadata": {},
   "outputs": [
    {
     "output_type": "stream",
     "name": "stdout",
     "text": [
      "('THEFT',)\n('THEFT',)\n('THEFT',)\n('THEFT',)\n('THEFT',)\n"
     ]
    }
   ],
   "source": [
    "# c.execute(\"select PRIMARY_TYPE from ChicagoCrimeData1 LIMIT 5\")\n",
    "# for row in c.fetchall():\n",
    "#     print(row)\n"
   ]
  },
  {
   "cell_type": "code",
   "execution_count": 15,
   "metadata": {},
   "outputs": [
    {
     "output_type": "stream",
     "name": "stdout",
     "text": [
      "[(533,)]\n"
     ]
    }
   ],
   "source": [
    "# #total number of crimes\n",
    "# c.execute(\"select count(*) from ChicagoCrimeData1\")\n",
    "# print(c.fetchall())"
   ]
  },
  {
   "cell_type": "code",
   "execution_count": 18,
   "metadata": {},
   "outputs": [
    {
     "output_type": "stream",
     "name": "stdout",
     "text": [
      "('HN144152', 'KIDNAPPING')\n"
     ]
    }
   ],
   "source": [
    "# #all kidnapping crimes involving a child\n",
    "# c.execute(\"select CASE_NUMBER,PRIMARY_TYPE from ChicagoCrimeData1 WHERE PRIMARY_TYPE LIKE '%KIDNAPPING%' AND DESCRIPTION LIKE '%CHILD%'\")\n",
    "# for row in c.fetchall():\n",
    "#     print(row)"
   ]
  },
  {
   "cell_type": "code",
   "execution_count": 19,
   "metadata": {},
   "outputs": [
    {
     "output_type": "stream",
     "name": "stdout",
     "text": [
      "('BATTERY',)\n('BATTERY',)\n('BATTERY',)\n('BATTERY',)\n('BATTERY',)\n('CRIMINAL DAMAGE',)\n('NARCOTICS',)\n('NARCOTICS',)\n('ASSAULT',)\n('CRIMINAL TRESPASS',)\n('PUBLIC PEACE VIOLATION',)\n('PUBLIC PEACE VIOLATION',)\n"
     ]
    }
   ],
   "source": [
    "# #What kind of crimes recorded at school\n",
    "# c.execute(\"select PRIMARY_TYPE from ChicagoCrimeData1 where LOCATION_DESCRIPTION LIKE '%SCHOOL%'\")\n",
    "# for row in c.fetchall():\n",
    "#     print(row)"
   ]
  },
  {
   "cell_type": "code",
   "execution_count": null,
   "metadata": {},
   "outputs": [],
   "source": []
  },
  {
   "cell_type": "code",
   "execution_count": 21,
   "metadata": {},
   "outputs": [
    {
     "output_type": "execute_result",
     "data": {
      "text/plain": [
       "        ID CASE_NUMBER  ...  LONGITUDE                       LOCATION\n",
       "0  3512276    HK587712  ... -87.703956    (41.8074405, -87.703955849)\n",
       "1  3406613    HK456306  ... -87.716406  (41.898279962, -87.716405505)\n",
       "\n",
       "[2 rows x 21 columns]"
      ],
      "text/html": "<div>\n<style scoped>\n    .dataframe tbody tr th:only-of-type {\n        vertical-align: middle;\n    }\n\n    .dataframe tbody tr th {\n        vertical-align: top;\n    }\n\n    .dataframe thead th {\n        text-align: right;\n    }\n</style>\n<table border=\"1\" class=\"dataframe\">\n  <thead>\n    <tr style=\"text-align: right;\">\n      <th></th>\n      <th>ID</th>\n      <th>CASE_NUMBER</th>\n      <th>DATE</th>\n      <th>BLOCK</th>\n      <th>IUCR</th>\n      <th>PRIMARY_TYPE</th>\n      <th>DESCRIPTION</th>\n      <th>LOCATION_DESCRIPTION</th>\n      <th>ARREST</th>\n      <th>DOMESTIC</th>\n      <th>BEAT</th>\n      <th>DISTRICT</th>\n      <th>WARD</th>\n      <th>COMMUNITY_AREA_NUMBER</th>\n      <th>FBICODE</th>\n      <th>X_COORDINATE</th>\n      <th>Y_COORDINATE</th>\n      <th>YEAR</th>\n      <th>LATITUDE</th>\n      <th>LONGITUDE</th>\n      <th>LOCATION</th>\n    </tr>\n  </thead>\n  <tbody>\n    <tr>\n      <th>0</th>\n      <td>3512276</td>\n      <td>HK587712</td>\n      <td>2004-08-28</td>\n      <td>047XX S KEDZIE AVE</td>\n      <td>890</td>\n      <td>THEFT</td>\n      <td>FROM BUILDING</td>\n      <td>SMALL RETAIL STORE</td>\n      <td>False</td>\n      <td>False</td>\n      <td>911</td>\n      <td>9</td>\n      <td>14.0</td>\n      <td>58.0</td>\n      <td>6</td>\n      <td>1155838.0</td>\n      <td>1873050.0</td>\n      <td>2004</td>\n      <td>41.80744</td>\n      <td>-87.703956</td>\n      <td>(41.8074405, -87.703955849)</td>\n    </tr>\n    <tr>\n      <th>1</th>\n      <td>3406613</td>\n      <td>HK456306</td>\n      <td>2004-06-26</td>\n      <td>009XX N CENTRAL PARK AVE</td>\n      <td>820</td>\n      <td>THEFT</td>\n      <td>$500 AND UNDER</td>\n      <td>OTHER</td>\n      <td>False</td>\n      <td>False</td>\n      <td>1112</td>\n      <td>11</td>\n      <td>27.0</td>\n      <td>23.0</td>\n      <td>6</td>\n      <td>1152206.0</td>\n      <td>1906127.0</td>\n      <td>2004</td>\n      <td>41.89828</td>\n      <td>-87.716406</td>\n      <td>(41.898279962, -87.716405505)</td>\n    </tr>\n  </tbody>\n</table>\n</div>"
     },
     "metadata": {},
     "execution_count": 21
    }
   ],
   "source": [
    "import pandas\n",
    "import sqlite3\n",
    "chicago_crime_data=pandas.read_csv(\"ChicagoCrimeData.csv\")\n",
    "chicago_crime_data.head(2)"
   ]
  },
  {
   "cell_type": "code",
   "execution_count": 24,
   "metadata": {},
   "outputs": [
    {
     "output_type": "stream",
     "name": "stdout",
     "text": [
      "Connected successfully\n"
     ]
    }
   ],
   "source": [
    "try:\n",
    "    conn=sqlite3.connect(\"ChicagoCrimeData1.db\")\n",
    "    c=conn.cursor()\n",
    "    print(\"Connected successfully\")\n",
    "except:\n",
    "    print(\"Unable to connect\")"
   ]
  },
  {
   "cell_type": "code",
   "execution_count": 25,
   "metadata": {},
   "outputs": [],
   "source": [
    "c.executescript(\"\"\" \n",
    "CREATE TABLE ChicagoCrimeData1(ID, CASE_NUMBER, DATE, BLOCK,IUCR, PRIMARY_TYPE,DESCRIPTION, LOCATION_DESCRIPTION, ARREST, DOMESTIC,BEAT,\n",
    "       DISTRICT, WARD, COMMUNITY_AREA_NUMBER, FBICODE, X_COORDINATE,\n",
    "       Y_COORDINATE, YEAR, LATITUDE, LONGITUDE, LOCATION)\"\"\")\n",
    "conn.commit()"
   ]
  },
  {
   "cell_type": "code",
   "execution_count": 31,
   "metadata": {},
   "outputs": [],
   "source": [
    "chicago_crime_data.to_sql(\"ChicagoCrimeData1\",conn,if_exists=\"replace\",index=False)"
   ]
  },
  {
   "cell_type": "code",
   "execution_count": 36,
   "metadata": {},
   "outputs": [
    {
     "output_type": "stream",
     "name": "stdout",
     "text": [
      "('THEFT',)\n('THEFT',)\n"
     ]
    }
   ],
   "source": [
    "c.execute(\"select PRIMARY_TYPE from ChicagoCrimeData1 LIMIT 2 \")\n",
    "for row in c.fetchall():\n",
    "    print(row)"
   ]
  },
  {
   "cell_type": "code",
   "execution_count": 39,
   "metadata": {},
   "outputs": [
    {
     "output_type": "stream",
     "name": "stdout",
     "text": [
      "[(25.0,), (23.0,), (68.0,)]\n"
     ]
    }
   ],
   "source": [
    "#Most repeated(frequent) value in COMMUNTY_AREA_NUMBER\n",
    "c.execute(\"select COMMUNITY_AREA_NUMBER from ChicagoCrimeData1 group by COMMUNITY_AREA_NUMBER order by count(COMMUNITY_AREA_NUMBER) DESC LIMIT 1\")\n",
    "print(c.fetchall())"
   ]
  }
 ]
}