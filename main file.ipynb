{
 "cells": [
  {
   "cell_type": "markdown",
   "metadata": {},
   "source": [
    "<h3>Chicago Schoool Data</h3>"
   ]
  },
  {
   "cell_type": "code",
   "execution_count": 1,
   "metadata": {},
   "outputs": [
    {
     "data": {
      "text/html": [
       "<div>\n",
       "<style scoped>\n",
       "    .dataframe tbody tr th:only-of-type {\n",
       "        vertical-align: middle;\n",
       "    }\n",
       "\n",
       "    .dataframe tbody tr th {\n",
       "        vertical-align: top;\n",
       "    }\n",
       "\n",
       "    .dataframe thead th {\n",
       "        text-align: right;\n",
       "    }\n",
       "</style>\n",
       "<table border=\"1\" class=\"dataframe\">\n",
       "  <thead>\n",
       "    <tr style=\"text-align: right;\">\n",
       "      <th></th>\n",
       "      <th>School_ID</th>\n",
       "      <th>NAME_OF_SCHOOL</th>\n",
       "      <th>Elementary, Middle, or High School</th>\n",
       "      <th>Street_Address</th>\n",
       "      <th>City</th>\n",
       "      <th>State</th>\n",
       "      <th>ZIP_Code</th>\n",
       "      <th>Phone_Number</th>\n",
       "      <th>Link</th>\n",
       "      <th>Network_Manager</th>\n",
       "      <th>...</th>\n",
       "      <th>Freshman_on_Track_Rate__</th>\n",
       "      <th>X_COORDINATE</th>\n",
       "      <th>Y_COORDINATE</th>\n",
       "      <th>Latitude</th>\n",
       "      <th>Longitude</th>\n",
       "      <th>COMMUNITY_AREA_NUMBER</th>\n",
       "      <th>COMMUNITY_AREA_NAME</th>\n",
       "      <th>Ward</th>\n",
       "      <th>Police_District</th>\n",
       "      <th>Location</th>\n",
       "    </tr>\n",
       "  </thead>\n",
       "  <tbody>\n",
       "    <tr>\n",
       "      <th>0</th>\n",
       "      <td>610038</td>\n",
       "      <td>Abraham Lincoln Elementary School</td>\n",
       "      <td>ES</td>\n",
       "      <td>615 W Kemper Pl</td>\n",
       "      <td>Chicago</td>\n",
       "      <td>IL</td>\n",
       "      <td>60614</td>\n",
       "      <td>(773) 534-5720</td>\n",
       "      <td>http://schoolreports.cps.edu/SchoolProgressRep...</td>\n",
       "      <td>Fullerton Elementary Network</td>\n",
       "      <td>...</td>\n",
       "      <td>NDA</td>\n",
       "      <td>1171699.458</td>\n",
       "      <td>1915829.428</td>\n",
       "      <td>41.924497</td>\n",
       "      <td>-87.644522</td>\n",
       "      <td>7</td>\n",
       "      <td>LINCOLN PARK</td>\n",
       "      <td>43</td>\n",
       "      <td>18</td>\n",
       "      <td>(41.92449696, -87.64452163)</td>\n",
       "    </tr>\n",
       "    <tr>\n",
       "      <th>1</th>\n",
       "      <td>610281</td>\n",
       "      <td>Adam Clayton Powell Paideia Community Academy ...</td>\n",
       "      <td>ES</td>\n",
       "      <td>7511 S South Shore Dr</td>\n",
       "      <td>Chicago</td>\n",
       "      <td>IL</td>\n",
       "      <td>60649</td>\n",
       "      <td>(773) 535-6650</td>\n",
       "      <td>http://schoolreports.cps.edu/SchoolProgressRep...</td>\n",
       "      <td>Skyway Elementary Network</td>\n",
       "      <td>...</td>\n",
       "      <td>NDA</td>\n",
       "      <td>1196129.985</td>\n",
       "      <td>1856209.466</td>\n",
       "      <td>41.760324</td>\n",
       "      <td>-87.556736</td>\n",
       "      <td>43</td>\n",
       "      <td>SOUTH SHORE</td>\n",
       "      <td>7</td>\n",
       "      <td>4</td>\n",
       "      <td>(41.76032435, -87.55673627)</td>\n",
       "    </tr>\n",
       "    <tr>\n",
       "      <th>2</th>\n",
       "      <td>610185</td>\n",
       "      <td>Adlai E Stevenson Elementary School</td>\n",
       "      <td>ES</td>\n",
       "      <td>8010 S Kostner Ave</td>\n",
       "      <td>Chicago</td>\n",
       "      <td>IL</td>\n",
       "      <td>60652</td>\n",
       "      <td>(773) 535-2280</td>\n",
       "      <td>http://schoolreports.cps.edu/SchoolProgressRep...</td>\n",
       "      <td>Midway Elementary Network</td>\n",
       "      <td>...</td>\n",
       "      <td>NDA</td>\n",
       "      <td>1148427.165</td>\n",
       "      <td>1851012.215</td>\n",
       "      <td>41.747111</td>\n",
       "      <td>-87.731702</td>\n",
       "      <td>70</td>\n",
       "      <td>ASHBURN</td>\n",
       "      <td>13</td>\n",
       "      <td>8</td>\n",
       "      <td>(41.74711093, -87.73170248)</td>\n",
       "    </tr>\n",
       "    <tr>\n",
       "      <th>3</th>\n",
       "      <td>609993</td>\n",
       "      <td>Agustin Lara Elementary Academy</td>\n",
       "      <td>ES</td>\n",
       "      <td>4619 S Wolcott Ave</td>\n",
       "      <td>Chicago</td>\n",
       "      <td>IL</td>\n",
       "      <td>60609</td>\n",
       "      <td>(773) 535-4389</td>\n",
       "      <td>http://schoolreports.cps.edu/SchoolProgressRep...</td>\n",
       "      <td>Pershing Elementary Network</td>\n",
       "      <td>...</td>\n",
       "      <td>NDA</td>\n",
       "      <td>1164504.290</td>\n",
       "      <td>1873959.199</td>\n",
       "      <td>41.809757</td>\n",
       "      <td>-87.672145</td>\n",
       "      <td>61</td>\n",
       "      <td>NEW CITY</td>\n",
       "      <td>20</td>\n",
       "      <td>9</td>\n",
       "      <td>(41.8097569, -87.6721446)</td>\n",
       "    </tr>\n",
       "    <tr>\n",
       "      <th>4</th>\n",
       "      <td>610513</td>\n",
       "      <td>Air Force Academy High School</td>\n",
       "      <td>HS</td>\n",
       "      <td>3630 S Wells St</td>\n",
       "      <td>Chicago</td>\n",
       "      <td>IL</td>\n",
       "      <td>60609</td>\n",
       "      <td>(773) 535-1590</td>\n",
       "      <td>http://schoolreports.cps.edu/SchoolProgressRep...</td>\n",
       "      <td>Southwest Side High School Network</td>\n",
       "      <td>...</td>\n",
       "      <td>91.8</td>\n",
       "      <td>1175177.622</td>\n",
       "      <td>1880745.126</td>\n",
       "      <td>41.828146</td>\n",
       "      <td>-87.632794</td>\n",
       "      <td>34</td>\n",
       "      <td>ARMOUR SQUARE</td>\n",
       "      <td>11</td>\n",
       "      <td>9</td>\n",
       "      <td>(41.82814609, -87.63279369)</td>\n",
       "    </tr>\n",
       "  </tbody>\n",
       "</table>\n",
       "<p>5 rows × 78 columns</p>\n",
       "</div>"
      ],
      "text/plain": [
       "   School_ID                                     NAME_OF_SCHOOL  \\\n",
       "0     610038                  Abraham Lincoln Elementary School   \n",
       "1     610281  Adam Clayton Powell Paideia Community Academy ...   \n",
       "2     610185                Adlai E Stevenson Elementary School   \n",
       "3     609993                    Agustin Lara Elementary Academy   \n",
       "4     610513                      Air Force Academy High School   \n",
       "\n",
       "  Elementary, Middle, or High School         Street_Address     City State  \\\n",
       "0                                 ES        615 W Kemper Pl  Chicago    IL   \n",
       "1                                 ES  7511 S South Shore Dr  Chicago    IL   \n",
       "2                                 ES     8010 S Kostner Ave  Chicago    IL   \n",
       "3                                 ES     4619 S Wolcott Ave  Chicago    IL   \n",
       "4                                 HS        3630 S Wells St  Chicago    IL   \n",
       "\n",
       "   ZIP_Code    Phone_Number  \\\n",
       "0     60614  (773) 534-5720   \n",
       "1     60649  (773) 535-6650   \n",
       "2     60652  (773) 535-2280   \n",
       "3     60609  (773) 535-4389   \n",
       "4     60609  (773) 535-1590   \n",
       "\n",
       "                                                Link  \\\n",
       "0  http://schoolreports.cps.edu/SchoolProgressRep...   \n",
       "1  http://schoolreports.cps.edu/SchoolProgressRep...   \n",
       "2  http://schoolreports.cps.edu/SchoolProgressRep...   \n",
       "3  http://schoolreports.cps.edu/SchoolProgressRep...   \n",
       "4  http://schoolreports.cps.edu/SchoolProgressRep...   \n",
       "\n",
       "                      Network_Manager  ... Freshman_on_Track_Rate__  \\\n",
       "0        Fullerton Elementary Network  ...                      NDA   \n",
       "1           Skyway Elementary Network  ...                      NDA   \n",
       "2           Midway Elementary Network  ...                      NDA   \n",
       "3         Pershing Elementary Network  ...                      NDA   \n",
       "4  Southwest Side High School Network  ...                     91.8   \n",
       "\n",
       "  X_COORDINATE Y_COORDINATE   Latitude  Longitude COMMUNITY_AREA_NUMBER  \\\n",
       "0  1171699.458  1915829.428  41.924497 -87.644522                     7   \n",
       "1  1196129.985  1856209.466  41.760324 -87.556736                    43   \n",
       "2  1148427.165  1851012.215  41.747111 -87.731702                    70   \n",
       "3  1164504.290  1873959.199  41.809757 -87.672145                    61   \n",
       "4  1175177.622  1880745.126  41.828146 -87.632794                    34   \n",
       "\n",
       "  COMMUNITY_AREA_NAME  Ward Police_District                     Location  \n",
       "0        LINCOLN PARK    43              18  (41.92449696, -87.64452163)  \n",
       "1         SOUTH SHORE     7               4  (41.76032435, -87.55673627)  \n",
       "2             ASHBURN    13               8  (41.74711093, -87.73170248)  \n",
       "3            NEW CITY    20               9    (41.8097569, -87.6721446)  \n",
       "4       ARMOUR SQUARE    11               9  (41.82814609, -87.63279369)  \n",
       "\n",
       "[5 rows x 78 columns]"
      ]
     },
     "execution_count": 1,
     "metadata": {},
     "output_type": "execute_result"
    }
   ],
   "source": [
    "\n",
    "import pandas\n",
    "chicago_school_data = pandas.read_csv('ChicagoPublicSchools.csv')\n",
    "# get_ipython().run_line_magic('sql', 'PERSIST chicago_socioeconomic_data')\n",
    "chicago_school_data.head()"
   ]
  },
  {
   "cell_type": "code",
   "execution_count": 2,
   "metadata": {},
   "outputs": [
    {
     "data": {
      "text/plain": [
       "Abraham Lincoln Elementary School                              1\n",
       "Mildred I Lavizzo Elementary School                            1\n",
       "Matthew Gallistel Elementary Language Academy                  1\n",
       "Medgar Evers Elementary School                                 1\n",
       "Melville W Fuller Elementary School                            1\n",
       "                                                              ..\n",
       "Garrett A Morgan Elementary School                             1\n",
       "Galileo Math & Science Scholastic Academy Elementary School    1\n",
       "Gage Park High School                                          1\n",
       "Friedrich W von Steuben Metropolitan Science High School       1\n",
       "World Language Academy High School                             1\n",
       "Name: NAME_OF_SCHOOL, Length: 566, dtype: int64"
      ]
     },
     "execution_count": 2,
     "metadata": {},
     "output_type": "execute_result"
    }
   ],
   "source": [
    "chicago_school_data[\"NAME_OF_SCHOOL\"].value_counts()"
   ]
  },
  {
   "cell_type": "code",
   "execution_count": 3,
   "metadata": {},
   "outputs": [],
   "source": [
    "import sqlite3\n",
    "conn = sqlite3.connect('main_database.db')\n",
    "c = conn.cursor()\n",
    "# c.execute(\"\"\"create table ChicagoSchoolData(SAFETY_SCORE)\"\"\")\n",
    "# conn.commit()"
   ]
  },
  {
   "cell_type": "code",
   "execution_count": 4,
   "metadata": {},
   "outputs": [
    {
     "data": {
      "text/plain": [
       "566"
      ]
     },
     "execution_count": 4,
     "metadata": {},
     "output_type": "execute_result"
    }
   ],
   "source": [
    "chicago_school_data[\"SAFETY_SCORE\"].to_sql(\"ChicagoSchoolData\",conn,if_exists=\"replace\",index=False)"
   ]
  },
  {
   "cell_type": "markdown",
   "metadata": {},
   "source": [
    "Problem 6: List the average safety score for all types of schools."
   ]
  },
  {
   "cell_type": "code",
   "execution_count": 5,
   "metadata": {},
   "outputs": [
    {
     "name": "stdout",
     "output_type": "stream",
     "text": [
      "49.50487329434698\n"
     ]
    }
   ],
   "source": [
    "# chicago_school_data[[\"Safety_Icon\",\"SAFETY_SCORE\"]].head()\n",
    "# chicago_school_data[\"SAFETY_SCORE\"].value_counts()\n",
    "# chicago_school_data[\"NAME_OF_SCHOOL\"].value_counts()\n",
    "\n",
    "\n",
    "# Average SAFETY_SCORE for all schools\n",
    "# chicago_school_data[\"SAFETY_SCORE\"].mean()\n",
    "c.execute(\"select avg(SAFETY_SCORE) from ChicagoSchoolData\")\n",
    "print(c.fetchall()[0][0])"
   ]
  },
  {
   "cell_type": "code",
   "execution_count": 6,
   "metadata": {},
   "outputs": [
    {
     "data": {
      "text/plain": [
       "Index(['School_ID', 'NAME_OF_SCHOOL', 'Elementary, Middle, or High School',\n",
       "       'Street_Address', 'City', 'State', 'ZIP_Code', 'Phone_Number', 'Link',\n",
       "       'Network_Manager', 'Collaborative_Name',\n",
       "       'Adequate_Yearly_Progress_Made_', 'Track_Schedule',\n",
       "       'CPS_Performance_Policy_Status', 'CPS_Performance_Policy_Level',\n",
       "       'HEALTHY_SCHOOL_CERTIFIED', 'Safety_Icon', 'SAFETY_SCORE',\n",
       "       'Family_Involvement_Icon', 'Family_Involvement_Score',\n",
       "       'Environment_Icon', 'Environment_Score', 'Instruction_Icon',\n",
       "       'Instruction_Score', 'Leaders_Icon', 'Leaders_Score', 'Teachers_Icon',\n",
       "       'Teachers_Score', 'Parent_Engagement_Icon', 'Parent_Engagement_Score',\n",
       "       'Parent_Environment_Icon', 'Parent_Environment_Score',\n",
       "       'AVERAGE_STUDENT_ATTENDANCE', 'Rate_of_Misconducts__per_100_students_',\n",
       "       'Average_Teacher_Attendance',\n",
       "       'Individualized_Education_Program_Compliance_Rate', 'Pk_2_Literacy__',\n",
       "       'Pk_2_Math__', 'Gr3_5_Grade_Level_Math__', 'Gr3_5_Grade_Level_Read__',\n",
       "       'Gr3_5_Keep_Pace_Read__', 'Gr3_5_Keep_Pace_Math__',\n",
       "       'Gr6_8_Grade_Level_Math__', 'Gr6_8_Grade_Level_Read__',\n",
       "       'Gr6_8_Keep_Pace_Math_', 'Gr6_8_Keep_Pace_Read__',\n",
       "       'Gr_8_Explore_Math__', 'Gr_8_Explore_Read__', 'ISAT_Exceeding_Math__',\n",
       "       'ISAT_Exceeding_Reading__', 'ISAT_Value_Add_Math',\n",
       "       'ISAT_Value_Add_Read', 'ISAT_Value_Add_Color_Math',\n",
       "       'ISAT_Value_Add_Color_Read', 'Students_Taking__Algebra__',\n",
       "       'Students_Passing__Algebra__', '9th Grade EXPLORE (2009)',\n",
       "       '9th Grade EXPLORE (2010)', '10th Grade PLAN (2009)',\n",
       "       '10th Grade PLAN (2010)', 'Net_Change_EXPLORE_and_PLAN',\n",
       "       '11th Grade Average ACT (2011)', 'Net_Change_PLAN_and_ACT',\n",
       "       'College_Eligibility__', 'Graduation_Rate__',\n",
       "       'College_Enrollment_Rate__', 'COLLEGE_ENROLLMENT',\n",
       "       'General_Services_Route', 'Freshman_on_Track_Rate__', 'X_COORDINATE',\n",
       "       'Y_COORDINATE', 'Latitude', 'Longitude', 'COMMUNITY_AREA_NUMBER',\n",
       "       'COMMUNITY_AREA_NAME', 'Ward', 'Police_District', 'Location'],\n",
       "      dtype='object')"
      ]
     },
     "execution_count": 6,
     "metadata": {},
     "output_type": "execute_result"
    }
   ],
   "source": [
    "chicago_school_data.columns\n",
    "# chicago_school_data.describe"
   ]
  },
  {
   "cell_type": "code",
   "execution_count": 7,
   "metadata": {},
   "outputs": [],
   "source": [
    "# import sqlite3\n",
    "# conn = sqlite3.connect('main_database.db')\n",
    "# c = conn.cursor()"
   ]
  },
  {
   "cell_type": "code",
   "execution_count": 8,
   "metadata": {},
   "outputs": [],
   "source": [
    "# c.execute(\"create table ChicagoSchoolData('School_ID', 'NAME_OF_SCHOOL', 'Elementary, Middle, or High School',\n",
    "#        'Street_Address', 'City', 'State', 'ZIP_Code', 'Phone_Number', 'Link',\n",
    "#        'Network_Manager', 'Collaborative_Name',\n",
    "#        'Adequate_Yearly_Progress_Made_', 'Track_Schedule',\n",
    "#        'CPS_Performance_Policy_Status', 'CPS_Performance_Policy_Level',\n",
    "#        'HEALTHY_SCHOOL_CERTIFIED', 'Safety_Icon', 'SAFETY_SCORE',\n",
    "#        'Family_Involvement_Icon', 'Family_Involvement_Score',\n",
    "#        'Environment_Icon', 'Environment_Score', 'Instruction_Icon',\n",
    "#        'Instruction_Score', 'Leaders_Icon', 'Leaders_Score', 'Teachers_Icon',\n",
    "#        'Teachers_Score', 'Parent_Engagement_Icon', 'Parent_Engagement_Score',\n",
    "#        'Parent_Environment_Icon', 'Parent_Environment_Score',\n",
    "#        'AVERAGE_STUDENT_ATTENDANCE', 'Rate_of_Misconducts__per_100_students_',\n",
    "#        'Average_Teacher_Attendance',\n",
    "#        'Individualized_Education_Program_Compliance_Rate', 'Pk_2_Literacy__',\n",
    "#        'Pk_2_Math__', 'Gr3_5_Grade_Level_Math__', 'Gr3_5_Grade_Level_Read__',\n",
    "#        'Gr3_5_Keep_Pace_Read__', 'Gr3_5_Keep_Pace_Math__',\n",
    "#        'Gr6_8_Grade_Level_Math__', 'Gr6_8_Grade_Level_Read__',\n",
    "#        'Gr6_8_Keep_Pace_Math_', 'Gr6_8_Keep_Pace_Read__',\n",
    "#        'Gr_8_Explore_Math__', 'Gr_8_Explore_Read__', 'ISAT_Exceeding_Math__',\n",
    "#        'ISAT_Exceeding_Reading__', 'ISAT_Value_Add_Math',\n",
    "#        'ISAT_Value_Add_Read', 'ISAT_Value_Add_Color_Math',\n",
    "#        'ISAT_Value_Add_Color_Read', 'Students_Taking__Algebra__',\n",
    "#        'Students_Passing__Algebra__', '9th Grade EXPLORE (2009)',\n",
    "#        '9th Grade EXPLORE (2010)', '10th Grade PLAN (2009)',\n",
    "#        '10th Grade PLAN (2010)', 'Net_Change_EXPLORE_and_PLAN',\n",
    "#        '11th Grade Average ACT (2011)', 'Net_Change_PLAN_and_ACT',\n",
    "#        'College_Eligibility__', 'Graduation_Rate__',\n",
    "#        'College_Enrollment_Rate__', 'COLLEGE_ENROLLMENT',\n",
    "#        'General_Services_Route', 'Freshman_on_Track_Rate__', 'X_COORDINATE',\n",
    "#        'Y_COORDINATE', 'Latitude', 'Longitude', 'COMMUNITY_AREA_NUMBER',\n",
    "#        'COMMUNITY_AREA_NAME', 'Ward', 'Police_District', 'Location')\")\n",
    "# c.commit()"
   ]
  },
  {
   "cell_type": "code",
   "execution_count": 9,
   "metadata": {},
   "outputs": [],
   "source": [
    "# # chicago_crime_data.to_sql(\"ChicagoSchoolData\", conn, if_exists='replace', index = False)\n",
    "# c.execute(\"select count(ID) from ChicagoCrimeData \")\n",
    "# i=0\n",
    "# for row in c.fetchall():\n",
    "#     if(i==4):\n",
    "#         break\n",
    "#     i+=1\n",
    "#     print(row)"
   ]
  },
  {
   "cell_type": "markdown",
   "metadata": {},
   "source": [
    "# Chicago Census Data"
   ]
  },
  {
   "cell_type": "code",
   "execution_count": 10,
   "metadata": {},
   "outputs": [
    {
     "data": {
      "text/html": [
       "<div>\n",
       "<style scoped>\n",
       "    .dataframe tbody tr th:only-of-type {\n",
       "        vertical-align: middle;\n",
       "    }\n",
       "\n",
       "    .dataframe tbody tr th {\n",
       "        vertical-align: top;\n",
       "    }\n",
       "\n",
       "    .dataframe thead th {\n",
       "        text-align: right;\n",
       "    }\n",
       "</style>\n",
       "<table border=\"1\" class=\"dataframe\">\n",
       "  <thead>\n",
       "    <tr style=\"text-align: right;\">\n",
       "      <th></th>\n",
       "      <th>COMMUNITY_AREA_NUMBER</th>\n",
       "      <th>COMMUNITY_AREA_NAME</th>\n",
       "      <th>PERCENT_OF_HOUSING_CROWDED</th>\n",
       "      <th>PERCENT_HOUSEHOLDS_BELOW_POVERTY</th>\n",
       "      <th>PERCENT_AGED_16__UNEMPLOYED</th>\n",
       "      <th>PERCENT_AGED_25__WITHOUT_HIGH_SCHOOL_DIPLOMA</th>\n",
       "      <th>PERCENT_AGED_UNDER_18_OR_OVER_64</th>\n",
       "      <th>PER_CAPITA_INCOME</th>\n",
       "      <th>HARDSHIP_INDEX</th>\n",
       "    </tr>\n",
       "  </thead>\n",
       "  <tbody>\n",
       "    <tr>\n",
       "      <th>0</th>\n",
       "      <td>1.0</td>\n",
       "      <td>Rogers Park</td>\n",
       "      <td>7.7</td>\n",
       "      <td>23.6</td>\n",
       "      <td>8.7</td>\n",
       "      <td>18.2</td>\n",
       "      <td>27.5</td>\n",
       "      <td>23939</td>\n",
       "      <td>39.0</td>\n",
       "    </tr>\n",
       "    <tr>\n",
       "      <th>1</th>\n",
       "      <td>2.0</td>\n",
       "      <td>West Ridge</td>\n",
       "      <td>7.8</td>\n",
       "      <td>17.2</td>\n",
       "      <td>8.8</td>\n",
       "      <td>20.8</td>\n",
       "      <td>38.5</td>\n",
       "      <td>23040</td>\n",
       "      <td>46.0</td>\n",
       "    </tr>\n",
       "    <tr>\n",
       "      <th>2</th>\n",
       "      <td>3.0</td>\n",
       "      <td>Uptown</td>\n",
       "      <td>3.8</td>\n",
       "      <td>24.0</td>\n",
       "      <td>8.9</td>\n",
       "      <td>11.8</td>\n",
       "      <td>22.2</td>\n",
       "      <td>35787</td>\n",
       "      <td>20.0</td>\n",
       "    </tr>\n",
       "    <tr>\n",
       "      <th>3</th>\n",
       "      <td>4.0</td>\n",
       "      <td>Lincoln Square</td>\n",
       "      <td>3.4</td>\n",
       "      <td>10.9</td>\n",
       "      <td>8.2</td>\n",
       "      <td>13.4</td>\n",
       "      <td>25.5</td>\n",
       "      <td>37524</td>\n",
       "      <td>17.0</td>\n",
       "    </tr>\n",
       "    <tr>\n",
       "      <th>4</th>\n",
       "      <td>5.0</td>\n",
       "      <td>North Center</td>\n",
       "      <td>0.3</td>\n",
       "      <td>7.5</td>\n",
       "      <td>5.2</td>\n",
       "      <td>4.5</td>\n",
       "      <td>26.2</td>\n",
       "      <td>57123</td>\n",
       "      <td>6.0</td>\n",
       "    </tr>\n",
       "  </tbody>\n",
       "</table>\n",
       "</div>"
      ],
      "text/plain": [
       "   COMMUNITY_AREA_NUMBER COMMUNITY_AREA_NAME  PERCENT_OF_HOUSING_CROWDED  \\\n",
       "0                    1.0         Rogers Park                         7.7   \n",
       "1                    2.0          West Ridge                         7.8   \n",
       "2                    3.0              Uptown                         3.8   \n",
       "3                    4.0      Lincoln Square                         3.4   \n",
       "4                    5.0        North Center                         0.3   \n",
       "\n",
       "   PERCENT_HOUSEHOLDS_BELOW_POVERTY  PERCENT_AGED_16__UNEMPLOYED  \\\n",
       "0                              23.6                          8.7   \n",
       "1                              17.2                          8.8   \n",
       "2                              24.0                          8.9   \n",
       "3                              10.9                          8.2   \n",
       "4                               7.5                          5.2   \n",
       "\n",
       "   PERCENT_AGED_25__WITHOUT_HIGH_SCHOOL_DIPLOMA  \\\n",
       "0                                          18.2   \n",
       "1                                          20.8   \n",
       "2                                          11.8   \n",
       "3                                          13.4   \n",
       "4                                           4.5   \n",
       "\n",
       "   PERCENT_AGED_UNDER_18_OR_OVER_64  PER_CAPITA_INCOME  HARDSHIP_INDEX  \n",
       "0                              27.5              23939            39.0  \n",
       "1                              38.5              23040            46.0  \n",
       "2                              22.2              35787            20.0  \n",
       "3                              25.5              37524            17.0  \n",
       "4                              26.2              57123             6.0  "
      ]
     },
     "execution_count": 10,
     "metadata": {},
     "output_type": "execute_result"
    }
   ],
   "source": [
    "chicago_sensus_data=pandas.read_csv(\"ChicagoCensusData.csv\")\n",
    "chicago_sensus_data.head()"
   ]
  },
  {
   "cell_type": "code",
   "execution_count": 11,
   "metadata": {},
   "outputs": [
    {
     "data": {
      "text/plain": [
       "Index(['COMMUNITY_AREA_NUMBER', 'COMMUNITY_AREA_NAME',\n",
       "       'PERCENT_OF_HOUSING_CROWDED', 'PERCENT_HOUSEHOLDS_BELOW_POVERTY',\n",
       "       'PERCENT_AGED_16__UNEMPLOYED',\n",
       "       'PERCENT_AGED_25__WITHOUT_HIGH_SCHOOL_DIPLOMA',\n",
       "       'PERCENT_AGED_UNDER_18_OR_OVER_64', 'PER_CAPITA_INCOME',\n",
       "       'HARDSHIP_INDEX'],\n",
       "      dtype='object')"
      ]
     },
     "execution_count": 11,
     "metadata": {},
     "output_type": "execute_result"
    }
   ],
   "source": [
    "chicago_sensus_data.columns"
   ]
  },
  {
   "cell_type": "code",
   "execution_count": 12,
   "metadata": {},
   "outputs": [],
   "source": [
    "c.execute(\"\"\"create table if not exists ChicagoSensusData(COMMUNITY_AREA_NUMBER, COMMUNITY_AREA_NAME, PERCENT_OF_HOUSING_CROWDED, PERCENT_HOUSEHOLDS_BELOW_POVERTY,\n",
    "    PERCENT_AGED_16__UNEMPLOYED,\n",
    "       PERCENT_AGED_25__WITHOUT_HIGH_SCHOOL_DIPLOMA,\n",
    "       PERCENT_AGED_UNDER_18_OR_OVER_64, PER_CAPITA_INCOME,\n",
    "       HARDSHIP_INDEX)\"\"\")\n",
    "conn.commit()"
   ]
  },
  {
   "cell_type": "code",
   "execution_count": 13,
   "metadata": {},
   "outputs": [
    {
     "data": {
      "text/plain": [
       "78"
      ]
     },
     "execution_count": 13,
     "metadata": {},
     "output_type": "execute_result"
    }
   ],
   "source": [
    "chicago_sensus_data.to_sql(\"ChicagoSensusData\",conn,if_exists=\"replace\",index=False)\n",
    "# chicago_crime_data.to_sql(\"ChicagoCrimeData\", conn, if_exists='replace', index = False)\n"
   ]
  },
  {
   "cell_type": "markdown",
   "metadata": {},
   "source": [
    "Problem 2: List community areas with per capita income less than 11000."
   ]
  },
  {
   "cell_type": "code",
   "execution_count": 14,
   "metadata": {},
   "outputs": [
    {
     "name": "stdout",
     "output_type": "stream",
     "text": [
      "('West Garfield Park',)\n",
      "('South Lawndale',)\n",
      "('Fuller Park',)\n",
      "('Riverdale',)\n"
     ]
    }
   ],
   "source": [
    "c.execute(\"select COMMUNITY_AREA_NAME from ChicagoSensusData where PER_CAPITA_INCOME<11000 \")\n",
    "for row in c.fetchall():\n",
    "    print(row)"
   ]
  },
  {
   "cell_type": "markdown",
   "metadata": {},
   "source": [
    "Problem 7: List 5 community areas with highest % of households below poverty line.\n",
    "\n"
   ]
  },
  {
   "cell_type": "code",
   "execution_count": 15,
   "metadata": {},
   "outputs": [
    {
     "name": "stdout",
     "output_type": "stream",
     "text": [
      "Riverdale\n",
      "Fuller Park\n",
      "Englewood\n",
      "North Lawndale\n",
      "East Garfield Park\n"
     ]
    }
   ],
   "source": [
    "c.execute(\"select COMMUNITY_AREA_NAME, PERCENT_HOUSEHOLDS_BELOW_POVERTY from ChicagoSensusData ORDER BY PERCENT_HOUSEHOLDS_BELOW_POVERTY DESC\")\n",
    "i=0\n",
    "for row in c.fetchall():\n",
    "    if(i<5):\n",
    "        print(row[0])\n",
    "    i+=1"
   ]
  },
  {
   "cell_type": "markdown",
   "metadata": {},
   "source": [
    "Problem 9: Use a sub-query to find the name of the community area with highest hardship index.\n",
    "\n"
   ]
  },
  {
   "cell_type": "code",
   "execution_count": 16,
   "metadata": {},
   "outputs": [
    {
     "data": {
      "text/plain": [
       "98.0"
      ]
     },
     "execution_count": 16,
     "metadata": {},
     "output_type": "execute_result"
    }
   ],
   "source": [
    "# chicago_sensus_data[\"HARDSHIP_INDEX\"].value_counts().idxmax()\n",
    "chicago_sensus_data[\"HARDSHIP_INDEX\"].max()"
   ]
  },
  {
   "cell_type": "code",
   "execution_count": 17,
   "metadata": {},
   "outputs": [
    {
     "name": "stdout",
     "output_type": "stream",
     "text": [
      "[('Riverdale',)]\n"
     ]
    }
   ],
   "source": [
    "c.execute(\"select COMMUNITY_AREA_NAME from ChicagoSensusData where HARDSHIP_INDEX=98.0\")\n",
    "print(c.fetchall())"
   ]
  },
  {
   "cell_type": "code",
   "execution_count": 18,
   "metadata": {},
   "outputs": [
    {
     "name": "stdout",
     "output_type": "stream",
     "text": [
      "Riverdale\n"
     ]
    }
   ],
   "source": [
    "c.execute(\"select COMMUNITY_AREA_NAME from ChicagoSensusData where  HARDSHIP_INDEX= (select max(HARDSHIP_INDEX) from ChicagoSensusData)\")\n",
    "print(c.fetchall()[0][0])"
   ]
  },
  {
   "cell_type": "code",
   "execution_count": 19,
   "metadata": {},
   "outputs": [
    {
     "name": "stdout",
     "output_type": "stream",
     "text": [
      "[(98.0,)]\n"
     ]
    }
   ],
   "source": [
    "c.execute(\"select max(HARDSHIP_INDEX) from ChicagoSensusData\")\n",
    "print(c.fetchall())"
   ]
  },
  {
   "cell_type": "markdown",
   "metadata": {},
   "source": [
    "Problem 10: Use a sub-query to determine the Community Area Name with most number of crimes?\n",
    "\n"
   ]
  },
  {
   "cell_type": "markdown",
   "metadata": {},
   "source": [
    "<h3>chicago crime data required here to get community number to solve the question</h3>"
   ]
  },
  {
   "cell_type": "code",
   "execution_count": 20,
   "metadata": {},
   "outputs": [
    {
     "data": {
      "text/html": [
       "<div>\n",
       "<style scoped>\n",
       "    .dataframe tbody tr th:only-of-type {\n",
       "        vertical-align: middle;\n",
       "    }\n",
       "\n",
       "    .dataframe tbody tr th {\n",
       "        vertical-align: top;\n",
       "    }\n",
       "\n",
       "    .dataframe thead th {\n",
       "        text-align: right;\n",
       "    }\n",
       "</style>\n",
       "<table border=\"1\" class=\"dataframe\">\n",
       "  <thead>\n",
       "    <tr style=\"text-align: right;\">\n",
       "      <th></th>\n",
       "      <th>ID</th>\n",
       "      <th>CASE_NUMBER</th>\n",
       "      <th>DATE</th>\n",
       "      <th>BLOCK</th>\n",
       "      <th>IUCR</th>\n",
       "      <th>PRIMARY_TYPE</th>\n",
       "      <th>DESCRIPTION</th>\n",
       "      <th>LOCATION_DESCRIPTION</th>\n",
       "      <th>ARREST</th>\n",
       "      <th>DOMESTIC</th>\n",
       "      <th>...</th>\n",
       "      <th>DISTRICT</th>\n",
       "      <th>WARD</th>\n",
       "      <th>COMMUNITY_AREA_NUMBER</th>\n",
       "      <th>FBICODE</th>\n",
       "      <th>X_COORDINATE</th>\n",
       "      <th>Y_COORDINATE</th>\n",
       "      <th>YEAR</th>\n",
       "      <th>LATITUDE</th>\n",
       "      <th>LONGITUDE</th>\n",
       "      <th>LOCATION</th>\n",
       "    </tr>\n",
       "  </thead>\n",
       "  <tbody>\n",
       "    <tr>\n",
       "      <th>528</th>\n",
       "      <td>10453948</td>\n",
       "      <td>HZ192829</td>\n",
       "      <td>2016-03-01</td>\n",
       "      <td>028XX E 79TH ST</td>\n",
       "      <td>1055</td>\n",
       "      <td>HUMAN TRAFFICKING</td>\n",
       "      <td>INVOLUNTARY SERVITUDE</td>\n",
       "      <td>APARTMENT</td>\n",
       "      <td>False</td>\n",
       "      <td>False</td>\n",
       "      <td>...</td>\n",
       "      <td>4</td>\n",
       "      <td>7.0</td>\n",
       "      <td>46.0</td>\n",
       "      <td>26</td>\n",
       "      <td>1196679.0</td>\n",
       "      <td>1853139.0</td>\n",
       "      <td>2016</td>\n",
       "      <td>41.751885</td>\n",
       "      <td>-87.554826</td>\n",
       "      <td>(41.751885152, -87.554825997)</td>\n",
       "    </tr>\n",
       "    <tr>\n",
       "      <th>529</th>\n",
       "      <td>10397129</td>\n",
       "      <td>HZ133234</td>\n",
       "      <td>2016-01-29</td>\n",
       "      <td>006XX W HARRISON ST</td>\n",
       "      <td>5114</td>\n",
       "      <td>NON - CRIMINAL</td>\n",
       "      <td>FOID - REVOCATION</td>\n",
       "      <td>STREET</td>\n",
       "      <td>False</td>\n",
       "      <td>False</td>\n",
       "      <td>...</td>\n",
       "      <td>1</td>\n",
       "      <td>2.0</td>\n",
       "      <td>28.0</td>\n",
       "      <td>26</td>\n",
       "      <td>1172257.0</td>\n",
       "      <td>1897564.0</td>\n",
       "      <td>2016</td>\n",
       "      <td>41.874363</td>\n",
       "      <td>-87.643013</td>\n",
       "      <td>(41.874363279, -87.643013039)</td>\n",
       "    </tr>\n",
       "    <tr>\n",
       "      <th>530</th>\n",
       "      <td>3269495</td>\n",
       "      <td>HJ747227</td>\n",
       "      <td>2003-11-08</td>\n",
       "      <td>012XX W 81ST ST</td>\n",
       "      <td>510</td>\n",
       "      <td>RITUALISM</td>\n",
       "      <td>AGG RIT MUT: HANDS/FIST/FEET SERIOUS INJURY</td>\n",
       "      <td>OTHER</td>\n",
       "      <td>False</td>\n",
       "      <td>False</td>\n",
       "      <td>...</td>\n",
       "      <td>6</td>\n",
       "      <td>21.0</td>\n",
       "      <td>71.0</td>\n",
       "      <td>04B</td>\n",
       "      <td>1169648.0</td>\n",
       "      <td>1851076.0</td>\n",
       "      <td>2003</td>\n",
       "      <td>41.746852</td>\n",
       "      <td>-87.653941</td>\n",
       "      <td>(41.746852486, -87.653941385)</td>\n",
       "    </tr>\n",
       "    <tr>\n",
       "      <th>531</th>\n",
       "      <td>10840565</td>\n",
       "      <td>JA143710</td>\n",
       "      <td>2017-02-06</td>\n",
       "      <td>009XX N KARLOV AVE</td>\n",
       "      <td>5073</td>\n",
       "      <td>NON-CRIMINAL (SUBJECT SPECIFIED)</td>\n",
       "      <td>NOTIFICATION OF CIVIL NO CONTACT ORDER</td>\n",
       "      <td>RESIDENCE</td>\n",
       "      <td>False</td>\n",
       "      <td>True</td>\n",
       "      <td>...</td>\n",
       "      <td>11</td>\n",
       "      <td>37.0</td>\n",
       "      <td>23.0</td>\n",
       "      <td>26</td>\n",
       "      <td>1148881.0</td>\n",
       "      <td>1905963.0</td>\n",
       "      <td>2017</td>\n",
       "      <td>41.897895</td>\n",
       "      <td>-87.728622</td>\n",
       "      <td>(41.89789489, -87.728622316)</td>\n",
       "    </tr>\n",
       "    <tr>\n",
       "      <th>532</th>\n",
       "      <td>1326195</td>\n",
       "      <td>G021609</td>\n",
       "      <td>2001-01-11</td>\n",
       "      <td>087XX S ESCANABA AV</td>\n",
       "      <td>9901</td>\n",
       "      <td>DOMESTIC VIOLENCE</td>\n",
       "      <td>DOMESTIC VIOLENCE</td>\n",
       "      <td>APARTMENT</td>\n",
       "      <td>True</td>\n",
       "      <td>True</td>\n",
       "      <td>...</td>\n",
       "      <td>4</td>\n",
       "      <td>NaN</td>\n",
       "      <td>NaN</td>\n",
       "      <td>08B</td>\n",
       "      <td>1196869.0</td>\n",
       "      <td>1847416.0</td>\n",
       "      <td>2001</td>\n",
       "      <td>41.736176</td>\n",
       "      <td>-87.554320</td>\n",
       "      <td>(41.73617608, -87.554319607)</td>\n",
       "    </tr>\n",
       "  </tbody>\n",
       "</table>\n",
       "<p>5 rows × 21 columns</p>\n",
       "</div>"
      ],
      "text/plain": [
       "           ID CASE_NUMBER        DATE                BLOCK  IUCR  \\\n",
       "528  10453948    HZ192829  2016-03-01      028XX E 79TH ST  1055   \n",
       "529  10397129    HZ133234  2016-01-29  006XX W HARRISON ST  5114   \n",
       "530   3269495    HJ747227  2003-11-08      012XX W 81ST ST   510   \n",
       "531  10840565    JA143710  2017-02-06   009XX N KARLOV AVE  5073   \n",
       "532   1326195     G021609  2001-01-11  087XX S ESCANABA AV  9901   \n",
       "\n",
       "                         PRIMARY_TYPE  \\\n",
       "528                 HUMAN TRAFFICKING   \n",
       "529                    NON - CRIMINAL   \n",
       "530                         RITUALISM   \n",
       "531  NON-CRIMINAL (SUBJECT SPECIFIED)   \n",
       "532                 DOMESTIC VIOLENCE   \n",
       "\n",
       "                                     DESCRIPTION LOCATION_DESCRIPTION  ARREST  \\\n",
       "528                        INVOLUNTARY SERVITUDE            APARTMENT   False   \n",
       "529                            FOID - REVOCATION               STREET   False   \n",
       "530  AGG RIT MUT: HANDS/FIST/FEET SERIOUS INJURY                OTHER   False   \n",
       "531       NOTIFICATION OF CIVIL NO CONTACT ORDER            RESIDENCE   False   \n",
       "532                            DOMESTIC VIOLENCE            APARTMENT    True   \n",
       "\n",
       "     DOMESTIC  ...  DISTRICT  WARD  COMMUNITY_AREA_NUMBER  FBICODE  \\\n",
       "528     False  ...         4   7.0                   46.0       26   \n",
       "529     False  ...         1   2.0                   28.0       26   \n",
       "530     False  ...         6  21.0                   71.0      04B   \n",
       "531      True  ...        11  37.0                   23.0       26   \n",
       "532      True  ...         4   NaN                    NaN      08B   \n",
       "\n",
       "    X_COORDINATE  Y_COORDINATE  YEAR   LATITUDE  LONGITUDE  \\\n",
       "528    1196679.0     1853139.0  2016  41.751885 -87.554826   \n",
       "529    1172257.0     1897564.0  2016  41.874363 -87.643013   \n",
       "530    1169648.0     1851076.0  2003  41.746852 -87.653941   \n",
       "531    1148881.0     1905963.0  2017  41.897895 -87.728622   \n",
       "532    1196869.0     1847416.0  2001  41.736176 -87.554320   \n",
       "\n",
       "                          LOCATION  \n",
       "528  (41.751885152, -87.554825997)  \n",
       "529  (41.874363279, -87.643013039)  \n",
       "530  (41.746852486, -87.653941385)  \n",
       "531   (41.89789489, -87.728622316)  \n",
       "532   (41.73617608, -87.554319607)  \n",
       "\n",
       "[5 rows x 21 columns]"
      ]
     },
     "execution_count": 20,
     "metadata": {},
     "output_type": "execute_result"
    }
   ],
   "source": [
    "#chicago crime data required here, otherwise chicago crime data is done below separately\n",
    "import pandas\n",
    "chicago_crime_data = pandas.read_csv('ChicagoCrimeData.csv')\n",
    "# get_ipython().run_line_magic('sql', 'PERSIST chicago_socioeconomic_data')\n",
    "chicago_crime_data.tail(5)"
   ]
  },
  {
   "cell_type": "code",
   "execution_count": 21,
   "metadata": {},
   "outputs": [
    {
     "data": {
      "text/plain": [
       "25.0    43\n",
       "23.0    22\n",
       "68.0    21\n",
       "28.0    16\n",
       "29.0    16\n",
       "        ..\n",
       "47.0     1\n",
       "55.0     1\n",
       "75.0     1\n",
       "33.0     1\n",
       "12.0     1\n",
       "Name: COMMUNITY_AREA_NUMBER, Length: 70, dtype: int64"
      ]
     },
     "execution_count": 21,
     "metadata": {},
     "output_type": "execute_result"
    }
   ],
   "source": [
    "chicago_crime_data[\"COMMUNITY_AREA_NUMBER\"].value_counts()"
   ]
  },
  {
   "cell_type": "code",
   "execution_count": 22,
   "metadata": {},
   "outputs": [],
   "source": [
    "# c.execute('CREATE TABLE ChicagoCrimeData (ca, community_area_name,percent_of_housing_crowded,percent_households_below_poverty, percent_aged_16_unemployed,percent_aged_25_without_high_school_diploma,percent_aged_under_18_or_over_64, per_capita_income_,hardship_index)')\n",
    "# c.execute(\"drop table if exists ChicagoCrimeData\")\n",
    "c.execute(\"\"\"CREATE TABLE if not exists ChicagoCrimeData(ID, CASE_NUMBER, DATE, BLOCK,IUCR, PRIMARY_TYPE,DESCRIPTION, LOCATION_DESCRIPTION, ARREST, DOMESTIC,BEAT,\n",
    "       DISTRICT, WARD, COMMUNITY_AREA_NUMBER, FBICODE, X_COORDINATE,\n",
    "       Y_COORDINATE, YEAR, LATITUDE, LONGITUDE, LOCATION)\"\"\")\n",
    "conn.commit()"
   ]
  },
  {
   "cell_type": "code",
   "execution_count": 23,
   "metadata": {},
   "outputs": [
    {
     "name": "stdout",
     "output_type": "stream",
     "text": [
      "('Austin',)\n"
     ]
    }
   ],
   "source": [
    "# c.execute(\"select COMMUNITY_AREA_NAME from ChicagoSensusData where COMMUNITY_AREA_NUMBER=(select max(COMMUNITY_AREA_NUMBER) from ChicagoCrimeData)\")\n",
    "# c.execute(\"select COMMUNITY_AREA_NAME from ChicagoSensusData where COMMUNITY_AREA_NUMBER=25.0\")\n",
    "c.execute(\"select COMMUNITY_AREA_NAME from ChicagoSensusData WHERE COMMUNITY_AREA_NUMBER=(select COMMUNITY_AREA_NUMBER from ChicagoCrimeData group by COMMUNITY_AREA_NUMBER order by count(COMMUNITY_AREA_NUMBER) DESC  LIMIT 1)\")\n",
    "# c.execute(\"select COMMUNITY_AREA_NUMBER,count(COMMUNITY_AREA_NUMBER) from ChicagoCrimeData group by COMMUNITY_AREA_NUMBER order by count(COMMUNITY_AREA_NUMBER) desc  limit 1\")\n",
    "# print(c.fetchall())\n",
    "for row in c.fetchall():\n",
    "    print(row)"
   ]
  },
  {
   "cell_type": "code",
   "execution_count": 24,
   "metadata": {},
   "outputs": [],
   "source": [
    "# select column, COUNT(column) AS MOST_FREQUENT\n",
    "# from TABLE_NAME\n",
    "# GROUP BY column\n",
    "# ORDER BY COUNT(column) DESC"
   ]
  },
  {
   "cell_type": "code",
   "execution_count": 25,
   "metadata": {},
   "outputs": [
    {
     "name": "stdout",
     "output_type": "stream",
     "text": [
      "(1,)\n"
     ]
    }
   ],
   "source": [
    "# c.execute(\"select COMMUNITY_AREA_NAME from ChicagoSensusData group by COMMUNITY_AREA_NAME order by count(COMMUNITY_AREA_NAME) DESC\")\n",
    "c.execute(\"select count(*) from ChicagoSensusData where COMMUNITY_AREA_NAME='Woodlawn'\")\n",
    "i=0\n",
    "for row in c.fetchall():\n",
    "    if(i<5):\n",
    "        print(row)\n",
    "    i+=1"
   ]
  },
  {
   "cell_type": "markdown",
   "metadata": {},
   "source": [
    "# Chicago Crime Data"
   ]
  },
  {
   "cell_type": "code",
   "execution_count": 26,
   "metadata": {},
   "outputs": [
    {
     "data": {
      "text/html": [
       "<div>\n",
       "<style scoped>\n",
       "    .dataframe tbody tr th:only-of-type {\n",
       "        vertical-align: middle;\n",
       "    }\n",
       "\n",
       "    .dataframe tbody tr th {\n",
       "        vertical-align: top;\n",
       "    }\n",
       "\n",
       "    .dataframe thead th {\n",
       "        text-align: right;\n",
       "    }\n",
       "</style>\n",
       "<table border=\"1\" class=\"dataframe\">\n",
       "  <thead>\n",
       "    <tr style=\"text-align: right;\">\n",
       "      <th></th>\n",
       "      <th>ID</th>\n",
       "      <th>CASE_NUMBER</th>\n",
       "      <th>DATE</th>\n",
       "      <th>BLOCK</th>\n",
       "      <th>IUCR</th>\n",
       "      <th>PRIMARY_TYPE</th>\n",
       "      <th>DESCRIPTION</th>\n",
       "      <th>LOCATION_DESCRIPTION</th>\n",
       "      <th>ARREST</th>\n",
       "      <th>DOMESTIC</th>\n",
       "      <th>...</th>\n",
       "      <th>DISTRICT</th>\n",
       "      <th>WARD</th>\n",
       "      <th>COMMUNITY_AREA_NUMBER</th>\n",
       "      <th>FBICODE</th>\n",
       "      <th>X_COORDINATE</th>\n",
       "      <th>Y_COORDINATE</th>\n",
       "      <th>YEAR</th>\n",
       "      <th>LATITUDE</th>\n",
       "      <th>LONGITUDE</th>\n",
       "      <th>LOCATION</th>\n",
       "    </tr>\n",
       "  </thead>\n",
       "  <tbody>\n",
       "    <tr>\n",
       "      <th>528</th>\n",
       "      <td>10453948</td>\n",
       "      <td>HZ192829</td>\n",
       "      <td>2016-03-01</td>\n",
       "      <td>028XX E 79TH ST</td>\n",
       "      <td>1055</td>\n",
       "      <td>HUMAN TRAFFICKING</td>\n",
       "      <td>INVOLUNTARY SERVITUDE</td>\n",
       "      <td>APARTMENT</td>\n",
       "      <td>False</td>\n",
       "      <td>False</td>\n",
       "      <td>...</td>\n",
       "      <td>4</td>\n",
       "      <td>7.0</td>\n",
       "      <td>46.0</td>\n",
       "      <td>26</td>\n",
       "      <td>1196679.0</td>\n",
       "      <td>1853139.0</td>\n",
       "      <td>2016</td>\n",
       "      <td>41.751885</td>\n",
       "      <td>-87.554826</td>\n",
       "      <td>(41.751885152, -87.554825997)</td>\n",
       "    </tr>\n",
       "    <tr>\n",
       "      <th>529</th>\n",
       "      <td>10397129</td>\n",
       "      <td>HZ133234</td>\n",
       "      <td>2016-01-29</td>\n",
       "      <td>006XX W HARRISON ST</td>\n",
       "      <td>5114</td>\n",
       "      <td>NON - CRIMINAL</td>\n",
       "      <td>FOID - REVOCATION</td>\n",
       "      <td>STREET</td>\n",
       "      <td>False</td>\n",
       "      <td>False</td>\n",
       "      <td>...</td>\n",
       "      <td>1</td>\n",
       "      <td>2.0</td>\n",
       "      <td>28.0</td>\n",
       "      <td>26</td>\n",
       "      <td>1172257.0</td>\n",
       "      <td>1897564.0</td>\n",
       "      <td>2016</td>\n",
       "      <td>41.874363</td>\n",
       "      <td>-87.643013</td>\n",
       "      <td>(41.874363279, -87.643013039)</td>\n",
       "    </tr>\n",
       "    <tr>\n",
       "      <th>530</th>\n",
       "      <td>3269495</td>\n",
       "      <td>HJ747227</td>\n",
       "      <td>2003-11-08</td>\n",
       "      <td>012XX W 81ST ST</td>\n",
       "      <td>510</td>\n",
       "      <td>RITUALISM</td>\n",
       "      <td>AGG RIT MUT: HANDS/FIST/FEET SERIOUS INJURY</td>\n",
       "      <td>OTHER</td>\n",
       "      <td>False</td>\n",
       "      <td>False</td>\n",
       "      <td>...</td>\n",
       "      <td>6</td>\n",
       "      <td>21.0</td>\n",
       "      <td>71.0</td>\n",
       "      <td>04B</td>\n",
       "      <td>1169648.0</td>\n",
       "      <td>1851076.0</td>\n",
       "      <td>2003</td>\n",
       "      <td>41.746852</td>\n",
       "      <td>-87.653941</td>\n",
       "      <td>(41.746852486, -87.653941385)</td>\n",
       "    </tr>\n",
       "    <tr>\n",
       "      <th>531</th>\n",
       "      <td>10840565</td>\n",
       "      <td>JA143710</td>\n",
       "      <td>2017-02-06</td>\n",
       "      <td>009XX N KARLOV AVE</td>\n",
       "      <td>5073</td>\n",
       "      <td>NON-CRIMINAL (SUBJECT SPECIFIED)</td>\n",
       "      <td>NOTIFICATION OF CIVIL NO CONTACT ORDER</td>\n",
       "      <td>RESIDENCE</td>\n",
       "      <td>False</td>\n",
       "      <td>True</td>\n",
       "      <td>...</td>\n",
       "      <td>11</td>\n",
       "      <td>37.0</td>\n",
       "      <td>23.0</td>\n",
       "      <td>26</td>\n",
       "      <td>1148881.0</td>\n",
       "      <td>1905963.0</td>\n",
       "      <td>2017</td>\n",
       "      <td>41.897895</td>\n",
       "      <td>-87.728622</td>\n",
       "      <td>(41.89789489, -87.728622316)</td>\n",
       "    </tr>\n",
       "    <tr>\n",
       "      <th>532</th>\n",
       "      <td>1326195</td>\n",
       "      <td>G021609</td>\n",
       "      <td>2001-01-11</td>\n",
       "      <td>087XX S ESCANABA AV</td>\n",
       "      <td>9901</td>\n",
       "      <td>DOMESTIC VIOLENCE</td>\n",
       "      <td>DOMESTIC VIOLENCE</td>\n",
       "      <td>APARTMENT</td>\n",
       "      <td>True</td>\n",
       "      <td>True</td>\n",
       "      <td>...</td>\n",
       "      <td>4</td>\n",
       "      <td>NaN</td>\n",
       "      <td>NaN</td>\n",
       "      <td>08B</td>\n",
       "      <td>1196869.0</td>\n",
       "      <td>1847416.0</td>\n",
       "      <td>2001</td>\n",
       "      <td>41.736176</td>\n",
       "      <td>-87.554320</td>\n",
       "      <td>(41.73617608, -87.554319607)</td>\n",
       "    </tr>\n",
       "  </tbody>\n",
       "</table>\n",
       "<p>5 rows × 21 columns</p>\n",
       "</div>"
      ],
      "text/plain": [
       "           ID CASE_NUMBER        DATE                BLOCK  IUCR  \\\n",
       "528  10453948    HZ192829  2016-03-01      028XX E 79TH ST  1055   \n",
       "529  10397129    HZ133234  2016-01-29  006XX W HARRISON ST  5114   \n",
       "530   3269495    HJ747227  2003-11-08      012XX W 81ST ST   510   \n",
       "531  10840565    JA143710  2017-02-06   009XX N KARLOV AVE  5073   \n",
       "532   1326195     G021609  2001-01-11  087XX S ESCANABA AV  9901   \n",
       "\n",
       "                         PRIMARY_TYPE  \\\n",
       "528                 HUMAN TRAFFICKING   \n",
       "529                    NON - CRIMINAL   \n",
       "530                         RITUALISM   \n",
       "531  NON-CRIMINAL (SUBJECT SPECIFIED)   \n",
       "532                 DOMESTIC VIOLENCE   \n",
       "\n",
       "                                     DESCRIPTION LOCATION_DESCRIPTION  ARREST  \\\n",
       "528                        INVOLUNTARY SERVITUDE            APARTMENT   False   \n",
       "529                            FOID - REVOCATION               STREET   False   \n",
       "530  AGG RIT MUT: HANDS/FIST/FEET SERIOUS INJURY                OTHER   False   \n",
       "531       NOTIFICATION OF CIVIL NO CONTACT ORDER            RESIDENCE   False   \n",
       "532                            DOMESTIC VIOLENCE            APARTMENT    True   \n",
       "\n",
       "     DOMESTIC  ...  DISTRICT  WARD  COMMUNITY_AREA_NUMBER  FBICODE  \\\n",
       "528     False  ...         4   7.0                   46.0       26   \n",
       "529     False  ...         1   2.0                   28.0       26   \n",
       "530     False  ...         6  21.0                   71.0      04B   \n",
       "531      True  ...        11  37.0                   23.0       26   \n",
       "532      True  ...         4   NaN                    NaN      08B   \n",
       "\n",
       "    X_COORDINATE  Y_COORDINATE  YEAR   LATITUDE  LONGITUDE  \\\n",
       "528    1196679.0     1853139.0  2016  41.751885 -87.554826   \n",
       "529    1172257.0     1897564.0  2016  41.874363 -87.643013   \n",
       "530    1169648.0     1851076.0  2003  41.746852 -87.653941   \n",
       "531    1148881.0     1905963.0  2017  41.897895 -87.728622   \n",
       "532    1196869.0     1847416.0  2001  41.736176 -87.554320   \n",
       "\n",
       "                          LOCATION  \n",
       "528  (41.751885152, -87.554825997)  \n",
       "529  (41.874363279, -87.643013039)  \n",
       "530  (41.746852486, -87.653941385)  \n",
       "531   (41.89789489, -87.728622316)  \n",
       "532   (41.73617608, -87.554319607)  \n",
       "\n",
       "[5 rows x 21 columns]"
      ]
     },
     "execution_count": 26,
     "metadata": {},
     "output_type": "execute_result"
    }
   ],
   "source": [
    "\n",
    "import pandas\n",
    "chicago_crime_data = pandas.read_csv('ChicagoCrimeData.csv')\n",
    "# get_ipython().run_line_magic('sql', 'PERSIST chicago_socioeconomic_data')\n",
    "chicago_crime_data.tail(5)"
   ]
  },
  {
   "cell_type": "code",
   "execution_count": 27,
   "metadata": {},
   "outputs": [
    {
     "data": {
      "text/plain": [
       "11    48\n",
       "8     44\n",
       "7     38\n",
       "4     33\n",
       "12    32\n",
       "6     31\n",
       "25    30\n",
       "15    29\n",
       "19    26\n",
       "9     25\n",
       "3     24\n",
       "10    23\n",
       "2     21\n",
       "16    19\n",
       "14    17\n",
       "18    17\n",
       "17    17\n",
       "5     16\n",
       "1     14\n",
       "22    10\n",
       "24    10\n",
       "20     9\n",
       "Name: DISTRICT, dtype: int64"
      ]
     },
     "execution_count": 27,
     "metadata": {},
     "output_type": "execute_result"
    }
   ],
   "source": [
    "chicago_crime_data[\"DISTRICT\"].value_counts()"
   ]
  },
  {
   "cell_type": "code",
   "execution_count": 28,
   "metadata": {},
   "outputs": [
    {
     "data": {
      "text/plain": [
       "Index(['ID', 'CASE_NUMBER', 'DATE', 'BLOCK', 'IUCR', 'PRIMARY_TYPE',\n",
       "       'DESCRIPTION', 'LOCATION_DESCRIPTION', 'ARREST', 'DOMESTIC', 'BEAT',\n",
       "       'DISTRICT', 'WARD', 'COMMUNITY_AREA_NUMBER', 'FBICODE', 'X_COORDINATE',\n",
       "       'Y_COORDINATE', 'YEAR', 'LATITUDE', 'LONGITUDE', 'LOCATION'],\n",
       "      dtype='object')"
      ]
     },
     "execution_count": 28,
     "metadata": {},
     "output_type": "execute_result"
    }
   ],
   "source": [
    "# chicago_socioeconomic_data.head()\n",
    "chicago_crime_data.columns"
   ]
  },
  {
   "cell_type": "code",
   "execution_count": 29,
   "metadata": {},
   "outputs": [
    {
     "data": {
      "text/plain": [
       "STREET                               136\n",
       "RESIDENCE                             84\n",
       "SIDEWALK                              64\n",
       "APARTMENT                             59\n",
       "OTHER                                 18\n",
       "PARKING LOT/GARAGE(NON.RESID.)        16\n",
       "ALLEY                                 11\n",
       "RESTAURANT                            11\n",
       "RESIDENCE-GARAGE                      10\n",
       "RESIDENCE PORCH/HALLWAY               10\n",
       "DEPARTMENT STORE                       9\n",
       "VEHICLE NON-COMMERCIAL                 9\n",
       "SMALL RETAIL STORE                     8\n",
       "GROCERY FOOD STORE                     8\n",
       "RESIDENTIAL YARD (FRONT/BACK)          6\n",
       "GAS STATION                            6\n",
       "SCHOOL, PUBLIC, GROUNDS                6\n",
       "BANK                                   5\n",
       "SCHOOL, PUBLIC, BUILDING               5\n",
       "CHURCH/SYNAGOGUE/PLACE OF WORSHIP      5\n",
       "BAR OR TAVERN                          4\n",
       "COMMERCIAL / BUSINESS OFFICE           4\n",
       "AIRPORT/AIRCRAFT                       3\n",
       "CTA PLATFORM                           3\n",
       "CHA PARKING LOT/GROUNDS                3\n",
       "DRUG STORE                             3\n",
       "POLICE FACILITY/VEH PARKING LOT        2\n",
       "CHA APARTMENT                          2\n",
       "OTHER COMMERCIAL TRANSPORTATION        2\n",
       "CONSTRUCTION SITE                      2\n",
       "NURSING HOME/RETIREMENT HOME           2\n",
       "CTA BUS                                1\n",
       "TAVERN/LIQUOR STORE                    1\n",
       "HOUSE                                  1\n",
       "CONVENIENCE STORE                      1\n",
       "SCHOOL, PRIVATE, BUILDING              1\n",
       "COLLEGE/UNIVERSITY GROUNDS             1\n",
       "CHA HALLWAY/STAIRWELL/ELEVATOR         1\n",
       "LIBRARY                                1\n",
       "VACANT LOT/LAND                        1\n",
       "CTA TRAIN                              1\n",
       "CLEANING STORE                         1\n",
       "FACTORY/MANUFACTURING BUILDING         1\n",
       "HOSPITAL BUILDING/GROUNDS              1\n",
       "ATHLETIC CLUB                          1\n",
       "WAREHOUSE                              1\n",
       "MOVIE HOUSE/THEATER                    1\n",
       "GOVERNMENT BUILDING/PROPERTY           1\n",
       "Name: LOCATION_DESCRIPTION, dtype: int64"
      ]
     },
     "execution_count": 29,
     "metadata": {},
     "output_type": "execute_result"
    }
   ],
   "source": [
    "chicago_crime_data[\"LOCATION_DESCRIPTION\"].value_counts()"
   ]
  },
  {
   "cell_type": "markdown",
   "metadata": {},
   "source": [
    "<h6>insert chicago_crime_dataset into database table ChicagoCrimeData</h6>"
   ]
  },
  {
   "cell_type": "code",
   "execution_count": 30,
   "metadata": {},
   "outputs": [
    {
     "data": {
      "text/plain": [
       "533"
      ]
     },
     "execution_count": 30,
     "metadata": {},
     "output_type": "execute_result"
    }
   ],
   "source": [
    "chicago_crime_data.to_sql(\"ChicagoCrimeData\", conn, if_exists='replace', index = False)"
   ]
  },
  {
   "cell_type": "markdown",
   "metadata": {},
   "source": [
    "Problem 8: Which community area(number) is most crime prone?\n",
    "\n"
   ]
  },
  {
   "cell_type": "code",
   "execution_count": 31,
   "metadata": {},
   "outputs": [
    {
     "name": "stdout",
     "output_type": "stream",
     "text": [
      "25.0\n"
     ]
    }
   ],
   "source": [
    "#.idxmax() gives most repeated data value from column\n",
    "# chicago_crime_data[\"COMMUNITY_AREA_NUMBER\"].value_counts().idxmax()\n",
    "# c.execute(\"select COMMUNITY_AREA_NUMBER from ChicagoCrimeData where (select max(COMMUNITY_AREA_NUMBER) from ChicagoCrimeData)\")\n",
    "c.execute(\"select COMMUNITY_AREA_NUMBER from ChicagoCrimeData group by COMMUNITY_AREA_NUMBER order by count(COMMUNITY_AREA_NUMBER) DESC LIMIT 1\")\n",
    "\n",
    "print(c.fetchall()[0][0])\n",
    "# for row in c.fetchall():\n",
    "#     print(row[0])\n"
   ]
  },
  {
   "cell_type": "code",
   "execution_count": 32,
   "metadata": {},
   "outputs": [
    {
     "name": "stdout",
     "output_type": "stream",
     "text": [
      "25.0\n"
     ]
    }
   ],
   "source": [
    "# df_communityAreaNumber=chicago_crime_data[\"COMMUNITY_AREA_NUMBER\"].value_counts()  #From here we get 25.0 as most crime prone area number\n",
    "\n",
    "# type(df_communityAreaNumber)\n",
    "\n",
    "#We printed community area number i.e. 25.0 by doing (where= COMMUNITY_AREA_NUMBER=25.0)\n",
    "#Result limited to one line due to \"count\"\n",
    "c.execute(\"select COMMUNITY_AREA_NUMBER,count(COMMUNITY_AREA_NUMBER) from ChicagoCrimeData where COMMUNITY_AREA_NUMBER=25.0\")\n",
    "# print(c.fetchall()[0])\n",
    "for row in c.fetchall():\n",
    "    print(row[0])"
   ]
  },
  {
   "cell_type": "code",
   "execution_count": 33,
   "metadata": {},
   "outputs": [],
   "source": [
    "# To see what values are present in PRIMARY_TYPE column...To know the types of crime"
   ]
  },
  {
   "cell_type": "code",
   "execution_count": 34,
   "metadata": {},
   "outputs": [
    {
     "data": {
      "text/plain": [
       "STREET                               136\n",
       "RESIDENCE                             84\n",
       "SIDEWALK                              64\n",
       "APARTMENT                             59\n",
       "OTHER                                 18\n",
       "PARKING LOT/GARAGE(NON.RESID.)        16\n",
       "ALLEY                                 11\n",
       "RESTAURANT                            11\n",
       "RESIDENCE-GARAGE                      10\n",
       "RESIDENCE PORCH/HALLWAY               10\n",
       "DEPARTMENT STORE                       9\n",
       "VEHICLE NON-COMMERCIAL                 9\n",
       "SMALL RETAIL STORE                     8\n",
       "GROCERY FOOD STORE                     8\n",
       "RESIDENTIAL YARD (FRONT/BACK)          6\n",
       "GAS STATION                            6\n",
       "SCHOOL, PUBLIC, GROUNDS                6\n",
       "BANK                                   5\n",
       "SCHOOL, PUBLIC, BUILDING               5\n",
       "CHURCH/SYNAGOGUE/PLACE OF WORSHIP      5\n",
       "BAR OR TAVERN                          4\n",
       "COMMERCIAL / BUSINESS OFFICE           4\n",
       "AIRPORT/AIRCRAFT                       3\n",
       "CTA PLATFORM                           3\n",
       "CHA PARKING LOT/GROUNDS                3\n",
       "DRUG STORE                             3\n",
       "POLICE FACILITY/VEH PARKING LOT        2\n",
       "CHA APARTMENT                          2\n",
       "OTHER COMMERCIAL TRANSPORTATION        2\n",
       "CONSTRUCTION SITE                      2\n",
       "NURSING HOME/RETIREMENT HOME           2\n",
       "CTA BUS                                1\n",
       "TAVERN/LIQUOR STORE                    1\n",
       "HOUSE                                  1\n",
       "CONVENIENCE STORE                      1\n",
       "SCHOOL, PRIVATE, BUILDING              1\n",
       "COLLEGE/UNIVERSITY GROUNDS             1\n",
       "CHA HALLWAY/STAIRWELL/ELEVATOR         1\n",
       "LIBRARY                                1\n",
       "VACANT LOT/LAND                        1\n",
       "CTA TRAIN                              1\n",
       "CLEANING STORE                         1\n",
       "FACTORY/MANUFACTURING BUILDING         1\n",
       "HOSPITAL BUILDING/GROUNDS              1\n",
       "ATHLETIC CLUB                          1\n",
       "WAREHOUSE                              1\n",
       "MOVIE HOUSE/THEATER                    1\n",
       "GOVERNMENT BUILDING/PROPERTY           1\n",
       "Name: LOCATION_DESCRIPTION, dtype: int64"
      ]
     },
     "execution_count": 34,
     "metadata": {},
     "output_type": "execute_result"
    }
   ],
   "source": [
    "\n",
    "# chicago_crime_data[\"PRIMARY_TYPE\"].value_counts()\n",
    "# chicago_crime_data[\"DESCRIPTION\"].value_counts().tail(50)\n",
    "chicago_crime_data[\"LOCATION_DESCRIPTION\"].value_counts().tail(50)\n"
   ]
  },
  {
   "cell_type": "code",
   "execution_count": 35,
   "metadata": {},
   "outputs": [],
   "source": [
    "# import sqlite3\n",
    "# conn = sqlite3.connect('main_database.db')\n",
    "# c = conn.cursor()"
   ]
  },
  {
   "cell_type": "code",
   "execution_count": 36,
   "metadata": {},
   "outputs": [],
   "source": [
    "# # c.execute('CREATE TABLE ChicagoCrimeData (ca, community_area_name,percent_of_housing_crowded,percent_households_below_poverty, percent_aged_16_unemployed,percent_aged_25_without_high_school_diploma,percent_aged_under_18_or_over_64, per_capita_income_,hardship_index)')\n",
    "# # c.execute(\"drop table if exists ChicagoCrimeData\")\n",
    "# c.execute(\"\"\"CREATE TABLE if not exists ChicagoCrimeData(ID, CASE_NUMBER, DATE, BLOCK,IUCR, PRIMARY_TYPE,DESCRIPTION, LOCATION_DESCRIPTION, ARREST, DOMESTIC,BEAT,\n",
    "#        DISTRICT, WARD, COMMUNITY_AREA_NUMBER, FBICODE, X_COORDINATE,\n",
    "#        Y_COORDINATE, YEAR, LATITUDE, LONGITUDE, LOCATION)\"\"\")\n",
    "# conn.commit()"
   ]
  },
  {
   "cell_type": "code",
   "execution_count": 37,
   "metadata": {},
   "outputs": [
    {
     "data": {
      "text/plain": [
       "533"
      ]
     },
     "execution_count": 37,
     "metadata": {},
     "output_type": "execute_result"
    }
   ],
   "source": [
    "chicago_crime_data.to_sql(\"ChicagoCrimeData\", conn, if_exists='replace', index = False)\n"
   ]
  },
  {
   "cell_type": "code",
   "execution_count": 38,
   "metadata": {},
   "outputs": [
    {
     "name": "stdout",
     "output_type": "stream",
     "text": [
      "(533,)\n"
     ]
    }
   ],
   "source": [
    "c.execute(\"select count(ID) from ChicagoCrimeData \")\n",
    "for row in c.fetchall():\n",
    "    print(row)"
   ]
  },
  {
   "cell_type": "code",
   "execution_count": 39,
   "metadata": {},
   "outputs": [
    {
     "name": "stdout",
     "output_type": "stream",
     "text": [
      "Count\n",
      "533\n"
     ]
    }
   ],
   "source": [
    "# Problem 1: Find the total number of crimes recorded in the CRIME table.\n",
    "c.execute(\"select count(distinct(ID)) as count from ChicagoCrimeData \")\n",
    "print(\"Count\")\n",
    "# print(c.fetchall())\n",
    "for row in c.fetchall():\n",
    "    print(row[0])\n"
   ]
  },
  {
   "cell_type": "markdown",
   "metadata": {},
   "source": [
    "Problem 3: List all case numbers for crimes  involving minors?\n"
   ]
  },
  {
   "cell_type": "code",
   "execution_count": 40,
   "metadata": {},
   "outputs": [
    {
     "name": "stdout",
     "output_type": "stream",
     "text": [
      "HL266884\n",
      "HK238408\n"
     ]
    }
   ],
   "source": [
    "c.execute(\"select CASE_NUMBER,DESCRIPTION from ChicagoCrimeData\")\n",
    "for row in c.fetchall():    \n",
    "    if(\"MINOR\" in row[1]):   \n",
    "        print(row[0])"
   ]
  },
  {
   "cell_type": "markdown",
   "metadata": {},
   "source": [
    "Problem 4: List all kidnapping crimes involving a child?\n"
   ]
  },
  {
   "cell_type": "code",
   "execution_count": 41,
   "metadata": {
    "tags": []
   },
   "outputs": [
    {
     "name": "stdout",
     "output_type": "stream",
     "text": [
      "('KIDNAPPING', 'CHILD ABDUCTION/STRANGER')\n"
     ]
    }
   ],
   "source": [
    "# c.execute(\"select PRIMARY_TYPE,DESCRIPTION  from ChicagoCrimeData where PRIMARY_TYPE='KIDNAPPING'\")\n",
    "# for row in c.fetchall():\n",
    "#     if(\"CHILD\" in row[1]):\n",
    "#         print(row)\n",
    "c.execute(\"select PRIMARY_TYPE,DESCRIPTION from ChicagoCrimeData where PRIMARY_TYPE LIKE '%KIDNAPPING%' AND DESCRIPTION LIKE '%CHILD%' \")\n",
    "for row in c.fetchall():\n",
    "    print(row)"
   ]
  },
  {
   "cell_type": "markdown",
   "metadata": {},
   "source": [
    "Problem 5: What kind of crimes were recorded at schools"
   ]
  },
  {
   "cell_type": "code",
   "execution_count": 42,
   "metadata": {},
   "outputs": [
    {
     "name": "stdout",
     "output_type": "stream",
     "text": [
      "BATTERY\n",
      "BATTERY\n",
      "BATTERY\n",
      "BATTERY\n",
      "BATTERY\n",
      "CRIMINAL DAMAGE\n",
      "NARCOTICS\n",
      "NARCOTICS\n",
      "ASSAULT\n",
      "CRIMINAL TRESPASS\n",
      "PUBLIC PEACE VIOLATION\n",
      "PUBLIC PEACE VIOLATION\n"
     ]
    }
   ],
   "source": [
    "# c.execute(\"select PRIMARY_TYPE,DESCRIPTION from ChicagoCrimeData where PRIMARY_TYPE LIKE '%KIDNAPPING%' AND DESCRIPTION LIKE '%CHILD%' \")\n",
    "\n",
    "c.execute(\"select PRIMARY_TYPE,LOCATION_DESCRIPTION from ChicagoCrimeData WHERE LOCATION_DESCRIPTION LIKE '%SCHOOL%'\")\n",
    "for row in c.fetchall():\n",
    "    # if(\"SCHOOL\" in row[1]):\n",
    "        print(row[0])"
   ]
  }
 ],
 "metadata": {
  "kernelspec": {
   "display_name": "Python 3 (ipykernel)",
   "language": "python",
   "name": "python3"
  },
  "language_info": {
   "codemirror_mode": {
    "name": "ipython",
    "version": 3
   },
   "file_extension": ".py",
   "mimetype": "text/x-python",
   "name": "python",
   "nbconvert_exporter": "python",
   "pygments_lexer": "ipython3",
   "version": "3.8.12"
  },
  "metadata": {
   "interpreter": {
    "hash": "08b64dc7e9099eac269fb18b5d824c195a782a2ed4ec34aad5d0bbbc3d697e62"
   }
  }
 },
 "nbformat": 4,
 "nbformat_minor": 2
}
